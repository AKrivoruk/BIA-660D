{
 "cells": [
  {
   "cell_type": "code",
   "execution_count": 7,
   "metadata": {
    "collapsed": true
   },
   "outputs": [],
   "source": [
    "# To support both python 2 and python 3\n",
    "from __future__ import division, print_function, unicode_literals\n",
    "\n",
    "# Common imports\n",
    "import numpy as np\n",
    "import os\n",
    "\n",
    "# to make this notebook's output stable across runs\n",
    "np.random.seed(42)\n",
    "\n",
    "# To plot pretty figures\n",
    "%matplotlib inline\n",
    "import matplotlib\n",
    "import matplotlib.pyplot as plt\n",
    "plt.rcParams['axes.labelsize'] = 14\n",
    "plt.rcParams['xtick.labelsize'] = 12\n",
    "plt.rcParams['ytick.labelsize'] = 12\n",
    "\n",
    "# Where to save the figures\n",
    "PROJECT_ROOT_DIR = \".\"\n",
    "CHAPTER_ID = \"end_to_end_project\"\n",
    "IMAGES_PATH = os.path.join(PROJECT_ROOT_DIR, \"images\", CHAPTER_ID)\n",
    "\n",
    "if not os.path.exists(IMAGES_PATH):\n",
    "    os.makedirs(IMAGES_PATH)\n",
    "\n",
    "def save_fig(fig_id, tight_layout=True, fig_extension=\"png\", resolution=300):\n",
    "    path = os.path.join(IMAGES_PATH, fig_id + \".\" + fig_extension)\n",
    "    print(\"Saving figure\", fig_id)\n",
    "    if tight_layout:\n",
    "        plt.tight_layout()\n",
    "    plt.savefig(path, format=fig_extension, dpi=resolution)\n",
    "\n",
    "# Ignore useless warnings (see SciPy issue #5998)\n",
    "import warnings\n",
    "warnings.filterwarnings(action=\"ignore\", module=\"scipy\", message=\"^internal gelsd\")"
   ]
  },
  {
   "cell_type": "code",
   "execution_count": 8,
   "metadata": {},
   "outputs": [],
   "source": [
    "import pandas as pd\n",
    "\n",
    "import json\n",
    "\n",
    "with open('reviews.json') as json_data:\n",
    "    d = json.load(json_data)"
   ]
  },
  {
   "cell_type": "code",
   "execution_count": 9,
   "metadata": {},
   "outputs": [
    {
     "data": {
      "text/html": [
       "<div>\n",
       "<style>\n",
       "    .dataframe thead tr:only-child th {\n",
       "        text-align: right;\n",
       "    }\n",
       "\n",
       "    .dataframe thead th {\n",
       "        text-align: left;\n",
       "    }\n",
       "\n",
       "    .dataframe tbody tr th {\n",
       "        vertical-align: top;\n",
       "    }\n",
       "</style>\n",
       "<table border=\"1\" class=\"dataframe\">\n",
       "  <thead>\n",
       "    <tr style=\"text-align: right;\">\n",
       "      <th></th>\n",
       "      <th>author</th>\n",
       "      <th>body</th>\n",
       "      <th>date</th>\n",
       "      <th>helpful</th>\n",
       "      <th>rating</th>\n",
       "      <th>title</th>\n",
       "    </tr>\n",
       "  </thead>\n",
       "  <tbody>\n",
       "    <tr>\n",
       "      <th>0</th>\n",
       "      <td>['Lauren Walsh']</td>\n",
       "      <td>['Ridiculously small. You are mislead by the p...</td>\n",
       "      <td>['on April 9, 2018']</td>\n",
       "      <td>[]</td>\n",
       "      <td>['1.0 out of 5 stars']</td>\n",
       "      <td>['One Star']</td>\n",
       "    </tr>\n",
       "    <tr>\n",
       "      <th>1</th>\n",
       "      <td>['Bradey Christensen']</td>\n",
       "      <td>['Only one works. The one that does is mediocr...</td>\n",
       "      <td>['on April 9, 2018']</td>\n",
       "      <td>[]</td>\n",
       "      <td>['1.0 out of 5 stars']</td>\n",
       "      <td>['The one that does is mediocre at best.']</td>\n",
       "    </tr>\n",
       "    <tr>\n",
       "      <th>2</th>\n",
       "      <td>['John Weber']</td>\n",
       "      <td>['Most: size, uses 2A battery, adjustable ligh...</td>\n",
       "      <td>['on April 9, 2018']</td>\n",
       "      <td>[]</td>\n",
       "      <td>['5.0 out of 5 stars']</td>\n",
       "      <td>['Five Stars']</td>\n",
       "    </tr>\n",
       "    <tr>\n",
       "      <th>3</th>\n",
       "      <td>['K Reed']</td>\n",
       "      <td>['Awesome little light, highly recommend']</td>\n",
       "      <td>['on April 9, 2018']</td>\n",
       "      <td>[]</td>\n",
       "      <td>['5.0 out of 5 stars']</td>\n",
       "      <td>['Five Stars']</td>\n",
       "    </tr>\n",
       "    <tr>\n",
       "      <th>4</th>\n",
       "      <td>['BW']</td>\n",
       "      <td>['Durable, lightweight and very bright']</td>\n",
       "      <td>['on April 9, 2018']</td>\n",
       "      <td>[]</td>\n",
       "      <td>['5.0 out of 5 stars']</td>\n",
       "      <td>['Five Stars']</td>\n",
       "    </tr>\n",
       "  </tbody>\n",
       "</table>\n",
       "</div>"
      ],
      "text/plain": [
       "                   author                                               body  \\\n",
       "0        ['Lauren Walsh']  ['Ridiculously small. You are mislead by the p...   \n",
       "1  ['Bradey Christensen']  ['Only one works. The one that does is mediocr...   \n",
       "2          ['John Weber']  ['Most: size, uses 2A battery, adjustable ligh...   \n",
       "3              ['K Reed']         ['Awesome little light, highly recommend']   \n",
       "4                  ['BW']           ['Durable, lightweight and very bright']   \n",
       "\n",
       "                   date helpful                  rating  \\\n",
       "0  ['on April 9, 2018']      []  ['1.0 out of 5 stars']   \n",
       "1  ['on April 9, 2018']      []  ['1.0 out of 5 stars']   \n",
       "2  ['on April 9, 2018']      []  ['5.0 out of 5 stars']   \n",
       "3  ['on April 9, 2018']      []  ['5.0 out of 5 stars']   \n",
       "4  ['on April 9, 2018']      []  ['5.0 out of 5 stars']   \n",
       "\n",
       "                                        title  \n",
       "0                                ['One Star']  \n",
       "1  ['The one that does is mediocre at best.']  \n",
       "2                              ['Five Stars']  \n",
       "3                              ['Five Stars']  \n",
       "4                              ['Five Stars']  "
      ]
     },
     "execution_count": 9,
     "metadata": {},
     "output_type": "execute_result"
    }
   ],
   "source": [
    "from pandas.io.json import json_normalize\n",
    "data = json_normalize(d[:])\n",
    "data_frame = pd.DataFrame.from_dict(data, orient='columns')\n",
    "df = data_frame.applymap(str)\n",
    "df.head()"
   ]
  },
  {
   "cell_type": "code",
   "execution_count": 6,
   "metadata": {},
   "outputs": [
    {
     "data": {
      "text/plain": [
       "count                       1360\n",
       "unique                         5\n",
       "top       ['5.0 out of 5 stars']\n",
       "freq                         863\n",
       "Name: rating, dtype: object"
      ]
     },
     "execution_count": 6,
     "metadata": {},
     "output_type": "execute_result"
    }
   ],
   "source": [
    "df.rating.describe()"
   ]
  },
  {
   "cell_type": "code",
   "execution_count": 22,
   "metadata": {},
   "outputs": [
    {
     "data": {
      "image/png": "[encoded data removed]",
      "text/plain": [
       "<matplotlib.figure.Figure at 0x1dc0b748>"
      ]
     },
     "metadata": {},
     "output_type": "display_data"
    }
   ],
   "source": [
    "import numpy as np\n",
    "import matplotlib.mlab as mlab\n",
    "import matplotlib.pyplot as plt\n",
    "\n",
    "plt.hist(df.rating, 5, facecolor='blue', alpha=0.5)\n",
    "plt.show()"
   ]
  },
  {
   "cell_type": "code",
   "execution_count": 24,
   "metadata": {},
   "outputs": [
    {
     "data": {
      "text/plain": [
       "RangeIndex(start=0, stop=1360, step=1)"
      ]
     },
     "execution_count": 24,
     "metadata": {},
     "output_type": "execute_result"
    }
   ],
   "source": [
    "df.columns\n",
    "df.index"
   ]
  },
  {
   "cell_type": "code",
   "execution_count": 25,
   "metadata": {},
   "outputs": [
    {
     "data": {
      "text/html": [
       "<div>\n",
       "<style>\n",
       "    .dataframe thead tr:only-child th {\n",
       "        text-align: right;\n",
       "    }\n",
       "\n",
       "    .dataframe thead th {\n",
       "        text-align: left;\n",
       "    }\n",
       "\n",
       "    .dataframe tbody tr th {\n",
       "        vertical-align: top;\n",
       "    }\n",
       "</style>\n",
       "<table border=\"1\" class=\"dataframe\">\n",
       "  <thead>\n",
       "    <tr style=\"text-align: right;\">\n",
       "      <th></th>\n",
       "      <th>author</th>\n",
       "      <th>body</th>\n",
       "      <th>date</th>\n",
       "      <th>helpful</th>\n",
       "      <th>rating</th>\n",
       "      <th>title</th>\n",
       "    </tr>\n",
       "  </thead>\n",
       "  <tbody>\n",
       "    <tr>\n",
       "      <th>count</th>\n",
       "      <td>1360</td>\n",
       "      <td>1360</td>\n",
       "      <td>1360</td>\n",
       "      <td>1360</td>\n",
       "      <td>1360</td>\n",
       "      <td>1360</td>\n",
       "    </tr>\n",
       "    <tr>\n",
       "      <th>unique</th>\n",
       "      <td>820</td>\n",
       "      <td>924</td>\n",
       "      <td>341</td>\n",
       "      <td>10</td>\n",
       "      <td>5</td>\n",
       "      <td>624</td>\n",
       "    </tr>\n",
       "    <tr>\n",
       "      <th>top</th>\n",
       "      <td>['Amazon Customer']</td>\n",
       "      <td>['Great product']</td>\n",
       "      <td>['on April 9, 2018']</td>\n",
       "      <td>[]</td>\n",
       "      <td>['5.0 out of 5 stars']</td>\n",
       "      <td>['Five Stars']</td>\n",
       "    </tr>\n",
       "    <tr>\n",
       "      <th>freq</th>\n",
       "      <td>135</td>\n",
       "      <td>8</td>\n",
       "      <td>34</td>\n",
       "      <td>1136</td>\n",
       "      <td>863</td>\n",
       "      <td>317</td>\n",
       "    </tr>\n",
       "  </tbody>\n",
       "</table>\n",
       "</div>"
      ],
      "text/plain": [
       "                     author               body                  date helpful  \\\n",
       "count                  1360               1360                  1360    1360   \n",
       "unique                  820                924                   341      10   \n",
       "top     ['Amazon Customer']  ['Great product']  ['on April 9, 2018']      []   \n",
       "freq                    135                  8                    34    1136   \n",
       "\n",
       "                        rating           title  \n",
       "count                     1360            1360  \n",
       "unique                       5             624  \n",
       "top     ['5.0 out of 5 stars']  ['Five Stars']  \n",
       "freq                       863             317  "
      ]
     },
     "execution_count": 25,
     "metadata": {},
     "output_type": "execute_result"
    }
   ],
   "source": [
    "df.describe()"
   ]
  },
  {
   "cell_type": "code",
   "execution_count": 26,
   "metadata": {},
   "outputs": [
    {
     "data": {
      "text/plain": [
       "['5.0 out of 5 stars']    863\n",
       "['4.0 out of 5 stars']    191\n",
       "['1.0 out of 5 stars']    128\n",
       "['3.0 out of 5 stars']     94\n",
       "['2.0 out of 5 stars']     84\n",
       "Name: rating, dtype: int64"
      ]
     },
     "execution_count": 26,
     "metadata": {},
     "output_type": "execute_result"
    }
   ],
   "source": [
    "df['rating'].value_counts()"
   ]
  },
  {
   "cell_type": "code",
   "execution_count": 52,
   "metadata": {},
   "outputs": [
    {
     "data": {
      "text/plain": [
       "[]                                                  1136\n",
       "['\\n      One person found this helpful.\\n    ']     134\n",
       "['\\n      2 people found this helpful.\\n    ']        53\n",
       "['\\n      3 people found this helpful.\\n    ']        18\n",
       "['\\n      4 people found this helpful.\\n    ']         8\n",
       "['\\n      5 people found this helpful.\\n    ']         3\n",
       "['\\n      6 people found this helpful.\\n    ']         3\n",
       "['\\n      15 people found this helpful.\\n    ']        2\n",
       "['\\n      8 people found this helpful.\\n    ']         2\n",
       "['\\n      214 people found this helpful.\\n    ']       1\n",
       "Name: helpful, dtype: int64"
      ]
     },
     "execution_count": 52,
     "metadata": {},
     "output_type": "execute_result"
    }
   ],
   "source": [
    "df['helpful'].value_counts()"
   ]
  },
  {
   "cell_type": "code",
   "execution_count": 6,
   "metadata": {},
   "outputs": [
    {
     "name": "stdout",
     "output_type": "stream",
     "text": [
      "[[0 0 0 ... 1 0 0]\n",
      " [0 0 0 ... 0 0 0]\n",
      " [0 1 0 ... 0 0 0]\n",
      " ...\n",
      " [0 1 0 ... 0 0 0]\n",
      " [0 0 0 ... 1 0 0]\n",
      " [0 0 1 ... 1 0 0]]\n"
     ]
    },
    {
     "data": {
      "text/plain": [
       "['aa',\n",
       " 'battery',\n",
       " 'bright',\n",
       " 'flashlight',\n",
       " 'flashlights',\n",
       " 'good',\n",
       " 'great',\n",
       " 'just',\n",
       " 'light',\n",
       " 'lights',\n",
       " 'like',\n",
       " 'little',\n",
       " 'nice',\n",
       " 'price',\n",
       " 'quality',\n",
       " 'really',\n",
       " 'size',\n",
       " 'small',\n",
       " 'use',\n",
       " 'work']"
      ]
     },
     "execution_count": 6,
     "metadata": {},
     "output_type": "execute_result"
    }
   ],
   "source": [
    "from sklearn.feature_extraction.text import CountVectorizer\n",
    "# cv = CountVectorizer(lowercase=True, stop_words='english',ngram_range=(2, 2))\n",
    "cv = CountVectorizer(lowercase=True, stop_words='english', max_features=20, binary=True)\n",
    "data = cv.fit_transform(df.body)\n",
    "print(data.toarray())\n",
    "cv.get_feature_names()"
   ]
  },
  {
   "cell_type": "code",
   "execution_count": 10,
   "metadata": {},
   "outputs": [
    {
     "data": {
      "text/plain": [
       "<matplotlib.axes._subplots.AxesSubplot at 0x1b7c0c18>"
      ]
     },
     "execution_count": 10,
     "metadata": {},
     "output_type": "execute_result"
    },
    {
     "data": {
      "image/png": "[encoded data removed]",
      "text/plain": [
       "<matplotlib.figure.Figure at 0x1b7c0320>"
      ]
     },
     "metadata": {},
     "output_type": "display_data"
    }
   ],
   "source": [
    "reviews = df.body\n",
    "review_lengths = reviews.apply(lambda r: len(r))\n",
    "review_lengths.plot(kind='kde', logx=True)"
   ]
  },
  {
   "cell_type": "code",
   "execution_count": 8,
   "metadata": {},
   "outputs": [
    {
     "data": {
      "text/plain": [
       "0     67\n",
       "1     58\n",
       "2    104\n",
       "3     42\n",
       "4     40\n",
       "Name: body, dtype: int64"
      ]
     },
     "execution_count": 8,
     "metadata": {},
     "output_type": "execute_result"
    }
   ],
   "source": [
    "review_lengths.head()"
   ]
  },
  {
   "cell_type": "code",
   "execution_count": 11,
   "metadata": {},
   "outputs": [
    {
     "data": {
      "text/plain": [
       "0.0    572\n",
       "1.0    109\n",
       "Name: helpful, dtype: int64"
      ]
     },
     "execution_count": 11,
     "metadata": {},
     "output_type": "execute_result"
    }
   ],
   "source": [
    "### data preprocessing:\n",
    "### score data was not in a numerical form so that needed to be taken care of \n",
    "### using if the review was helpful or not could be a good indicator of if others gave it a similar rating\n",
    "### usefulness was then turned into a binary variable (1 if useful, 0 if not)\n",
    "### names of reviewers was also found to be an important feature but it became evident that incincere\n",
    "### reviews may come from overly dramaticized names so names were converted into name length \n",
    "### this will encompass two word names (since they get an extra 1 in their length) and superfluous\n",
    "### single names. (so if you get a 1* review from fhwefhardgfsvsdv or Mrs. Dunwa Regionia ) the \n",
    "### two names would be considered similar regardless of stylistic composition of the name itself\n",
    "training, validation = df.iloc[:681, :], df.iloc[681:, :]\n",
    "\n",
    "for i in training.index:\n",
    "    if df['rating'][i] == \"['5.0 out of 5 stars']\":\n",
    "        df['rating'][i] = 5.0\n",
    "    elif df['rating'][i] == \"['4.0 out of 5 stars']\":\n",
    "        df['rating'][i] = 4.0\n",
    "    elif df['rating'][i] == \"['3.0 out of 5 stars']\":\n",
    "        df['rating'][i] = 3.0\n",
    "    elif df['rating'][i] == \"['2.0 out of 5 stars']\":\n",
    "        df['rating'][i] = 2.0\n",
    "    elif df['rating'][i] == \"['1.0 out of 5 stars']\":\n",
    "        df['rating'][i] = 1.0\n",
    "for i in df.index:\n",
    "    if df['helpful'][i] == \"[]\":\n",
    "        df['helpful'][i] = 0.0\n",
    "for i in df.index:\n",
    "    if df['helpful'][i] != 0.0:\n",
    "        df['helpful'][i] = 1.0\n",
    "        \n",
    "for i in training.index:\n",
    "        a = df['author'][i]\n",
    "        name_len = len(a)\n",
    "        df['author'][i] = name_len\n",
    "        \n",
    "for i in training.index:\n",
    "        df['body'][i] = review_lengths[i]\n",
    "        \n",
    "W = training.loc[:, 'author']\n",
    "#name length \n",
    "X = training.loc[:, 'body']\n",
    "#review length \n",
    "Y = training.loc[:, 'rating']\n",
    "#score\n",
    "Z = training.loc[:,'helpful']\n",
    "#binary 1 yes people found it helpful, 0 no \n",
    "\n",
    "pd.value_counts(Z)"
   ]
  },
  {
   "cell_type": "code",
   "execution_count": 12,
   "metadata": {
    "collapsed": true
   },
   "outputs": [],
   "source": [
    "\n",
    "\n",
    "for i in validation.index:\n",
    "    if df['rating'][i] == \"['5.0 out of 5 stars']\":\n",
    "        df['rating'][i] = 5.0\n",
    "    elif df['rating'][i] == \"['4.0 out of 5 stars']\":\n",
    "        df['rating'][i] = 4.0\n",
    "    elif df['rating'][i] == \"['3.0 out of 5 stars']\":\n",
    "        df['rating'][i] = 3.0\n",
    "    elif df['rating'][i] == \"['2.0 out of 5 stars']\":\n",
    "        df['rating'][i] = 2.0\n",
    "    elif df['rating'][i] == \"['1.0 out of 5 stars']\":\n",
    "        df['rating'][i] = 1.0\n",
    "for i in df.index:\n",
    "    if df['helpful'][i] == \"[]\":\n",
    "        df['helpful'][i] = 0.0\n",
    "for i in df.index:\n",
    "    if df['helpful'][i] != 0.0:\n",
    "        df['helpful'][i] = 1.0\n",
    "        \n",
    "for i in validation.index:\n",
    "        a = df['author'][i]\n",
    "        name_len = len(a)\n",
    "        df['author'][i] = name_len\n",
    "        \n",
    "for i in validation.index:\n",
    "        df['body'][i] = review_lengths[i]\n",
    "        \n",
    "WW = validation.loc[:, 'author']\n",
    "#name length \n",
    "XX = validation.loc[:, 'body']\n",
    "#review length \n",
    "YY = validation.loc[:, 'rating']\n",
    "#score\n",
    "ZZ = validation.loc[:,'helpful']\n",
    "#binary 1 yes people found it helpful, 0 no \n"
   ]
  },
  {
   "cell_type": "code",
   "execution_count": 13,
   "metadata": {},
   "outputs": [
    {
     "data": {
      "text/html": [
       "<div>\n",
       "<style>\n",
       "    .dataframe thead tr:only-child th {\n",
       "        text-align: right;\n",
       "    }\n",
       "\n",
       "    .dataframe thead th {\n",
       "        text-align: left;\n",
       "    }\n",
       "\n",
       "    .dataframe tbody tr th {\n",
       "        vertical-align: top;\n",
       "    }\n",
       "</style>\n",
       "<table border=\"1\" class=\"dataframe\">\n",
       "  <thead>\n",
       "    <tr style=\"text-align: right;\">\n",
       "      <th></th>\n",
       "      <th>author</th>\n",
       "      <th>body</th>\n",
       "      <th>date</th>\n",
       "      <th>helpful</th>\n",
       "      <th>rating</th>\n",
       "      <th>title</th>\n",
       "    </tr>\n",
       "  </thead>\n",
       "  <tbody>\n",
       "    <tr>\n",
       "      <th>0</th>\n",
       "      <td>16</td>\n",
       "      <td>67</td>\n",
       "      <td>['on April 9, 2018']</td>\n",
       "      <td>0</td>\n",
       "      <td>1</td>\n",
       "      <td>['One Star']</td>\n",
       "    </tr>\n",
       "    <tr>\n",
       "      <th>1</th>\n",
       "      <td>22</td>\n",
       "      <td>58</td>\n",
       "      <td>['on April 9, 2018']</td>\n",
       "      <td>0</td>\n",
       "      <td>1</td>\n",
       "      <td>['The one that does is mediocre at best.']</td>\n",
       "    </tr>\n",
       "    <tr>\n",
       "      <th>2</th>\n",
       "      <td>14</td>\n",
       "      <td>104</td>\n",
       "      <td>['on April 9, 2018']</td>\n",
       "      <td>0</td>\n",
       "      <td>5</td>\n",
       "      <td>['Five Stars']</td>\n",
       "    </tr>\n",
       "    <tr>\n",
       "      <th>3</th>\n",
       "      <td>10</td>\n",
       "      <td>42</td>\n",
       "      <td>['on April 9, 2018']</td>\n",
       "      <td>0</td>\n",
       "      <td>5</td>\n",
       "      <td>['Five Stars']</td>\n",
       "    </tr>\n",
       "    <tr>\n",
       "      <th>4</th>\n",
       "      <td>6</td>\n",
       "      <td>40</td>\n",
       "      <td>['on April 9, 2018']</td>\n",
       "      <td>0</td>\n",
       "      <td>5</td>\n",
       "      <td>['Five Stars']</td>\n",
       "    </tr>\n",
       "  </tbody>\n",
       "</table>\n",
       "</div>"
      ],
      "text/plain": [
       "  author body                  date helpful rating  \\\n",
       "0     16   67  ['on April 9, 2018']       0      1   \n",
       "1     22   58  ['on April 9, 2018']       0      1   \n",
       "2     14  104  ['on April 9, 2018']       0      5   \n",
       "3     10   42  ['on April 9, 2018']       0      5   \n",
       "4      6   40  ['on April 9, 2018']       0      5   \n",
       "\n",
       "                                        title  \n",
       "0                                ['One Star']  \n",
       "1  ['The one that does is mediocre at best.']  \n",
       "2                              ['Five Stars']  \n",
       "3                              ['Five Stars']  \n",
       "4                              ['Five Stars']  "
      ]
     },
     "execution_count": 13,
     "metadata": {},
     "output_type": "execute_result"
    }
   ],
   "source": [
    "training.head()"
   ]
  },
  {
   "cell_type": "code",
   "execution_count": 14,
   "metadata": {},
   "outputs": [
    {
     "data": {
      "text/html": [
       "<div>\n",
       "<style>\n",
       "    .dataframe thead tr:only-child th {\n",
       "        text-align: right;\n",
       "    }\n",
       "\n",
       "    .dataframe thead th {\n",
       "        text-align: left;\n",
       "    }\n",
       "\n",
       "    .dataframe tbody tr th {\n",
       "        vertical-align: top;\n",
       "    }\n",
       "</style>\n",
       "<table border=\"1\" class=\"dataframe\">\n",
       "  <thead>\n",
       "    <tr style=\"text-align: right;\">\n",
       "      <th></th>\n",
       "      <th>author</th>\n",
       "      <th>body</th>\n",
       "      <th>date</th>\n",
       "      <th>helpful</th>\n",
       "      <th>rating</th>\n",
       "      <th>title</th>\n",
       "    </tr>\n",
       "  </thead>\n",
       "  <tbody>\n",
       "    <tr>\n",
       "      <th>681</th>\n",
       "      <td>20</td>\n",
       "      <td>90</td>\n",
       "      <td>['on November 3, 2017']</td>\n",
       "      <td>0</td>\n",
       "      <td>3</td>\n",
       "      <td>['Three Stars']</td>\n",
       "    </tr>\n",
       "    <tr>\n",
       "      <th>682</th>\n",
       "      <td>6</td>\n",
       "      <td>77</td>\n",
       "      <td>['on November 3, 2017']</td>\n",
       "      <td>1</td>\n",
       "      <td>5</td>\n",
       "      <td>['My favorite small flashlight']</td>\n",
       "    </tr>\n",
       "    <tr>\n",
       "      <th>683</th>\n",
       "      <td>11</td>\n",
       "      <td>113</td>\n",
       "      <td>['on November 1, 2017']</td>\n",
       "      <td>1</td>\n",
       "      <td>5</td>\n",
       "      <td>['Nice little torches']</td>\n",
       "    </tr>\n",
       "    <tr>\n",
       "      <th>684</th>\n",
       "      <td>7</td>\n",
       "      <td>40</td>\n",
       "      <td>['on November 1, 2017']</td>\n",
       "      <td>1</td>\n",
       "      <td>5</td>\n",
       "      <td>['Police grade luminescence']</td>\n",
       "    </tr>\n",
       "    <tr>\n",
       "      <th>685</th>\n",
       "      <td>9</td>\n",
       "      <td>69</td>\n",
       "      <td>['on November 1, 2017']</td>\n",
       "      <td>0</td>\n",
       "      <td>3</td>\n",
       "      <td>['Three Stars']</td>\n",
       "    </tr>\n",
       "  </tbody>\n",
       "</table>\n",
       "</div>"
      ],
      "text/plain": [
       "    author body                     date helpful rating  \\\n",
       "681     20   90  ['on November 3, 2017']       0      3   \n",
       "682      6   77  ['on November 3, 2017']       1      5   \n",
       "683     11  113  ['on November 1, 2017']       1      5   \n",
       "684      7   40  ['on November 1, 2017']       1      5   \n",
       "685      9   69  ['on November 1, 2017']       0      3   \n",
       "\n",
       "                                title  \n",
       "681                   ['Three Stars']  \n",
       "682  ['My favorite small flashlight']  \n",
       "683           ['Nice little torches']  \n",
       "684     ['Police grade luminescence']  \n",
       "685                   ['Three Stars']  "
      ]
     },
     "execution_count": 14,
     "metadata": {},
     "output_type": "execute_result"
    }
   ],
   "source": [
    "validation.head()"
   ]
  },
  {
   "cell_type": "code",
   "execution_count": 15,
   "metadata": {
    "collapsed": true
   },
   "outputs": [],
   "source": [
    "import statsmodels.formula.api as sm\n",
    "from statsmodels.formula.api import ols\n",
    "#ols = sm.ols(formula=\"Y ~ W + X + Z\", data = training).fit()\n",
    "#gives an error. Fixed in ols1. "
   ]
  },
  {
   "cell_type": "code",
   "execution_count": 16,
   "metadata": {},
   "outputs": [
    {
     "data": {
      "text/html": [
       "<table class=\"simpletable\">\n",
       "<caption>OLS Regression Results</caption>\n",
       "<tr>\n",
       "  <th>Dep. Variable:</th>            <td>Y</td>        <th>  R-squared:         </th> <td>   0.045</td>\n",
       "</tr>\n",
       "<tr>\n",
       "  <th>Model:</th>                   <td>OLS</td>       <th>  Adj. R-squared:    </th> <td>   0.040</td>\n",
       "</tr>\n",
       "<tr>\n",
       "  <th>Method:</th>             <td>Least Squares</td>  <th>  F-statistic:       </th> <td>   10.52</td>\n",
       "</tr>\n",
       "<tr>\n",
       "  <th>Date:</th>             <td>Sat, 21 Apr 2018</td> <th>  Prob (F-statistic):</th> <td>9.02e-07</td>\n",
       "</tr>\n",
       "<tr>\n",
       "  <th>Time:</th>                 <td>12:48:35</td>     <th>  Log-Likelihood:    </th> <td> -1178.6</td>\n",
       "</tr>\n",
       "<tr>\n",
       "  <th>No. Observations:</th>      <td>   681</td>      <th>  AIC:               </th> <td>   2365.</td>\n",
       "</tr>\n",
       "<tr>\n",
       "  <th>Df Residuals:</th>          <td>   677</td>      <th>  BIC:               </th> <td>   2383.</td>\n",
       "</tr>\n",
       "<tr>\n",
       "  <th>Df Model:</th>              <td>     3</td>      <th>                     </th>     <td> </td>   \n",
       "</tr>\n",
       "<tr>\n",
       "  <th>Covariance Type:</th>      <td>nonrobust</td>    <th>                     </th>     <td> </td>   \n",
       "</tr>\n",
       "</table>\n",
       "<table class=\"simpletable\">\n",
       "<tr>\n",
       "      <td></td>         <th>coef</th>     <th>std err</th>      <th>t</th>      <th>P>|t|</th>  <th>[0.025</th>    <th>0.975]</th>  \n",
       "</tr>\n",
       "<tr>\n",
       "  <th>Intercept</th> <td>    4.3466</td> <td>    0.167</td> <td>   26.097</td> <td> 0.000</td> <td>    4.020</td> <td>    4.674</td>\n",
       "</tr>\n",
       "<tr>\n",
       "  <th>W</th>         <td>   -0.0081</td> <td>    0.011</td> <td>   -0.749</td> <td> 0.454</td> <td>   -0.029</td> <td>    0.013</td>\n",
       "</tr>\n",
       "<tr>\n",
       "  <th>X</th>         <td>   -0.0006</td> <td>    0.000</td> <td>   -1.955</td> <td> 0.051</td> <td>   -0.001</td> <td> 2.31e-06</td>\n",
       "</tr>\n",
       "<tr>\n",
       "  <th>Z</th>         <td>   -0.6630</td> <td>    0.150</td> <td>   -4.424</td> <td> 0.000</td> <td>   -0.957</td> <td>   -0.369</td>\n",
       "</tr>\n",
       "</table>\n",
       "<table class=\"simpletable\">\n",
       "<tr>\n",
       "  <th>Omnibus:</th>       <td>91.840</td> <th>  Durbin-Watson:     </th> <td>   2.003</td>\n",
       "</tr>\n",
       "<tr>\n",
       "  <th>Prob(Omnibus):</th> <td> 0.000</td> <th>  Jarque-Bera (JB):  </th> <td> 129.529</td>\n",
       "</tr>\n",
       "<tr>\n",
       "  <th>Skew:</th>          <td>-1.065</td> <th>  Prob(JB):          </th> <td>7.47e-29</td>\n",
       "</tr>\n",
       "<tr>\n",
       "  <th>Kurtosis:</th>      <td> 2.834</td> <th>  Cond. No.          </th> <td>    796.</td>\n",
       "</tr>\n",
       "</table>"
      ],
      "text/plain": [
       "<class 'statsmodels.iolib.summary.Summary'>\n",
       "\"\"\"\n",
       "                            OLS Regression Results                            \n",
       "==============================================================================\n",
       "Dep. Variable:                      Y   R-squared:                       0.045\n",
       "Model:                            OLS   Adj. R-squared:                  0.040\n",
       "Method:                 Least Squares   F-statistic:                     10.52\n",
       "Date:                Sat, 21 Apr 2018   Prob (F-statistic):           9.02e-07\n",
       "Time:                        12:48:35   Log-Likelihood:                -1178.6\n",
       "No. Observations:                 681   AIC:                             2365.\n",
       "Df Residuals:                     677   BIC:                             2383.\n",
       "Df Model:                           3                                         \n",
       "Covariance Type:            nonrobust                                         \n",
       "==============================================================================\n",
       "                 coef    std err          t      P>|t|      [0.025      0.975]\n",
       "------------------------------------------------------------------------------\n",
       "Intercept      4.3466      0.167     26.097      0.000       4.020       4.674\n",
       "W             -0.0081      0.011     -0.749      0.454      -0.029       0.013\n",
       "X             -0.0006      0.000     -1.955      0.051      -0.001    2.31e-06\n",
       "Z             -0.6630      0.150     -4.424      0.000      -0.957      -0.369\n",
       "==============================================================================\n",
       "Omnibus:                       91.840   Durbin-Watson:                   2.003\n",
       "Prob(Omnibus):                  0.000   Jarque-Bera (JB):              129.529\n",
       "Skew:                          -1.065   Prob(JB):                     7.47e-29\n",
       "Kurtosis:                       2.834   Cond. No.                         796.\n",
       "==============================================================================\n",
       "\n",
       "Warnings:\n",
       "[1] Standard Errors assume that the covariance matrix of the errors is correctly specified.\n",
       "\"\"\""
      ]
     },
     "execution_count": 16,
     "metadata": {},
     "output_type": "execute_result"
    }
   ],
   "source": [
    "W = W.astype(float)\n",
    "X = X.astype(float)\n",
    "Y = Y.astype(float)\n",
    "Z = Z.astype(float)\n",
    "#ols1 = ols.get_robustcov_results(cov_type='HAC',maxlags=1)\n",
    "ols1 = sm.ols(formula=\"Y ~ W + X + Z\", data = training).fit()\n",
    "ols1.summary()"
   ]
  },
  {
   "cell_type": "code",
   "execution_count": 29,
   "metadata": {},
   "outputs": [
    {
     "data": {
      "image/png": "[encoded data removed]",
      "text/plain": [
       "<matplotlib.figure.Figure at 0x1c20f630>"
      ]
     },
     "metadata": {},
     "output_type": "display_data"
    }
   ],
   "source": [
    "import matplotlib.pyplot as pyplot\n",
    "from scipy import stats\n",
    "import numpy as np \n",
    "import pylab\n",
    "\n",
    "res = ols1.resid \n",
    "fig = stats.probplot(res, dist=\"norm\", plot=pylab)\n",
    "pylab.show()"
   ]
  },
  {
   "cell_type": "code",
   "execution_count": 26,
   "metadata": {},
   "outputs": [
    {
     "data": {
      "text/html": [
       "<table class=\"simpletable\">\n",
       "<caption>OLS Regression Results</caption>\n",
       "<tr>\n",
       "  <th>Dep. Variable:</th>           <td>YY</td>        <th>  R-squared:         </th> <td>   0.214</td>\n",
       "</tr>\n",
       "<tr>\n",
       "  <th>Model:</th>                   <td>OLS</td>       <th>  Adj. R-squared:    </th> <td>   0.210</td>\n",
       "</tr>\n",
       "<tr>\n",
       "  <th>Method:</th>             <td>Least Squares</td>  <th>  F-statistic:       </th> <td>   61.11</td>\n",
       "</tr>\n",
       "<tr>\n",
       "  <th>Date:</th>             <td>Sat, 21 Apr 2018</td> <th>  Prob (F-statistic):</th> <td>5.85e-35</td>\n",
       "</tr>\n",
       "<tr>\n",
       "  <th>Time:</th>                 <td>12:58:00</td>     <th>  Log-Likelihood:    </th> <td> -1033.7</td>\n",
       "</tr>\n",
       "<tr>\n",
       "  <th>No. Observations:</th>      <td>   679</td>      <th>  AIC:               </th> <td>   2075.</td>\n",
       "</tr>\n",
       "<tr>\n",
       "  <th>Df Residuals:</th>          <td>   675</td>      <th>  BIC:               </th> <td>   2094.</td>\n",
       "</tr>\n",
       "<tr>\n",
       "  <th>Df Model:</th>              <td>     3</td>      <th>                     </th>     <td> </td>   \n",
       "</tr>\n",
       "<tr>\n",
       "  <th>Covariance Type:</th>      <td>nonrobust</td>    <th>                     </th>     <td> </td>   \n",
       "</tr>\n",
       "</table>\n",
       "<table class=\"simpletable\">\n",
       "<tr>\n",
       "      <td></td>         <th>coef</th>     <th>std err</th>      <th>t</th>      <th>P>|t|</th>  <th>[0.025</th>    <th>0.975]</th>  \n",
       "</tr>\n",
       "<tr>\n",
       "  <th>Intercept</th> <td>    4.3132</td> <td>    0.145</td> <td>   29.743</td> <td> 0.000</td> <td>    4.028</td> <td>    4.598</td>\n",
       "</tr>\n",
       "<tr>\n",
       "  <th>WW</th>        <td>    0.0100</td> <td>    0.009</td> <td>    1.093</td> <td> 0.275</td> <td>   -0.008</td> <td>    0.028</td>\n",
       "</tr>\n",
       "<tr>\n",
       "  <th>XX</th>        <td>    0.0006</td> <td>    0.000</td> <td>    2.205</td> <td> 0.028</td> <td> 6.15e-05</td> <td>    0.001</td>\n",
       "</tr>\n",
       "<tr>\n",
       "  <th>ZZ</th>        <td>   -1.5942</td> <td>    0.121</td> <td>  -13.172</td> <td> 0.000</td> <td>   -1.832</td> <td>   -1.357</td>\n",
       "</tr>\n",
       "</table>\n",
       "<table class=\"simpletable\">\n",
       "<tr>\n",
       "  <th>Omnibus:</th>       <td>69.092</td> <th>  Durbin-Watson:     </th> <td>   1.865</td>\n",
       "</tr>\n",
       "<tr>\n",
       "  <th>Prob(Omnibus):</th> <td> 0.000</td> <th>  Jarque-Bera (JB):  </th> <td>  88.142</td>\n",
       "</tr>\n",
       "<tr>\n",
       "  <th>Skew:</th>          <td>-0.835</td> <th>  Prob(JB):          </th> <td>7.25e-20</td>\n",
       "</tr>\n",
       "<tr>\n",
       "  <th>Kurtosis:</th>      <td> 3.574</td> <th>  Cond. No.          </th> <td>    837.</td>\n",
       "</tr>\n",
       "</table>"
      ],
      "text/plain": [
       "<class 'statsmodels.iolib.summary.Summary'>\n",
       "\"\"\"\n",
       "                            OLS Regression Results                            \n",
       "==============================================================================\n",
       "Dep. Variable:                     YY   R-squared:                       0.214\n",
       "Model:                            OLS   Adj. R-squared:                  0.210\n",
       "Method:                 Least Squares   F-statistic:                     61.11\n",
       "Date:                Sat, 21 Apr 2018   Prob (F-statistic):           5.85e-35\n",
       "Time:                        12:58:00   Log-Likelihood:                -1033.7\n",
       "No. Observations:                 679   AIC:                             2075.\n",
       "Df Residuals:                     675   BIC:                             2094.\n",
       "Df Model:                           3                                         \n",
       "Covariance Type:            nonrobust                                         \n",
       "==============================================================================\n",
       "                 coef    std err          t      P>|t|      [0.025      0.975]\n",
       "------------------------------------------------------------------------------\n",
       "Intercept      4.3132      0.145     29.743      0.000       4.028       4.598\n",
       "WW             0.0100      0.009      1.093      0.275      -0.008       0.028\n",
       "XX             0.0006      0.000      2.205      0.028    6.15e-05       0.001\n",
       "ZZ            -1.5942      0.121    -13.172      0.000      -1.832      -1.357\n",
       "==============================================================================\n",
       "Omnibus:                       69.092   Durbin-Watson:                   1.865\n",
       "Prob(Omnibus):                  0.000   Jarque-Bera (JB):               88.142\n",
       "Skew:                          -0.835   Prob(JB):                     7.25e-20\n",
       "Kurtosis:                       3.574   Cond. No.                         837.\n",
       "==============================================================================\n",
       "\n",
       "Warnings:\n",
       "[1] Standard Errors assume that the covariance matrix of the errors is correctly specified.\n",
       "\"\"\""
      ]
     },
     "execution_count": 26,
     "metadata": {},
     "output_type": "execute_result"
    }
   ],
   "source": [
    "WW = WW.astype(float)\n",
    "XX = XX.astype(float)\n",
    "YY = YY.astype(float)\n",
    "ZZ = ZZ.astype(float)\n",
    "ols11 = sm.ols(formula=\"YY ~ WW + XX + ZZ\", data = validation).fit()\n",
    "ols11.summary()"
   ]
  },
  {
   "cell_type": "code",
   "execution_count": 28,
   "metadata": {},
   "outputs": [
    {
     "data": {
      "image/png": "[encoded data removed]",
      "text/plain": [
       "<matplotlib.figure.Figure at 0x1c54c4e0>"
      ]
     },
     "metadata": {},
     "output_type": "display_data"
    }
   ],
   "source": [
    "import matplotlib.pyplot as pyplot\n",
    "from scipy import stats\n",
    "import numpy as np \n",
    "import pylab\n",
    "\n",
    "res = ols11.resid \n",
    "fig = stats.probplot(res, dist=\"norm\", plot=pylab)\n",
    "pylab.show()"
   ]
  },
  {
   "cell_type": "code",
   "execution_count": 18,
   "metadata": {},
   "outputs": [
    {
     "data": {
      "text/html": [
       "<table class=\"simpletable\">\n",
       "<caption>OLS Regression Results</caption>\n",
       "<tr>\n",
       "  <th>Dep. Variable:</th>            <td>Y</td>        <th>  R-squared:         </th> <td>   0.055</td>\n",
       "</tr>\n",
       "<tr>\n",
       "  <th>Model:</th>                   <td>OLS</td>       <th>  Adj. R-squared:    </th> <td>   0.045</td>\n",
       "</tr>\n",
       "<tr>\n",
       "  <th>Method:</th>             <td>Least Squares</td>  <th>  F-statistic:       </th> <td>   5.596</td>\n",
       "</tr>\n",
       "<tr>\n",
       "  <th>Date:</th>             <td>Sat, 21 Apr 2018</td> <th>  Prob (F-statistic):</th> <td>2.75e-06</td>\n",
       "</tr>\n",
       "<tr>\n",
       "  <th>Time:</th>                 <td>12:48:51</td>     <th>  Log-Likelihood:    </th> <td> -1174.9</td>\n",
       "</tr>\n",
       "<tr>\n",
       "  <th>No. Observations:</th>      <td>   681</td>      <th>  AIC:               </th> <td>   2366.</td>\n",
       "</tr>\n",
       "<tr>\n",
       "  <th>Df Residuals:</th>          <td>   673</td>      <th>  BIC:               </th> <td>   2402.</td>\n",
       "</tr>\n",
       "<tr>\n",
       "  <th>Df Model:</th>              <td>     7</td>      <th>                     </th>     <td> </td>   \n",
       "</tr>\n",
       "<tr>\n",
       "  <th>Covariance Type:</th>      <td>nonrobust</td>    <th>                     </th>     <td> </td>   \n",
       "</tr>\n",
       "</table>\n",
       "<table class=\"simpletable\">\n",
       "<tr>\n",
       "      <td></td>         <th>coef</th>     <th>std err</th>      <th>t</th>      <th>P>|t|</th>  <th>[0.025</th>    <th>0.975]</th>  \n",
       "</tr>\n",
       "<tr>\n",
       "  <th>Intercept</th> <td>    4.3602</td> <td>    0.259</td> <td>   16.862</td> <td> 0.000</td> <td>    3.852</td> <td>    4.868</td>\n",
       "</tr>\n",
       "<tr>\n",
       "  <th>W</th>         <td>   -0.0016</td> <td>    0.018</td> <td>   -0.093</td> <td> 0.926</td> <td>   -0.036</td> <td>    0.033</td>\n",
       "</tr>\n",
       "<tr>\n",
       "  <th>X</th>         <td>   -0.0007</td> <td>    0.001</td> <td>   -0.506</td> <td> 0.613</td> <td>   -0.003</td> <td>    0.002</td>\n",
       "</tr>\n",
       "<tr>\n",
       "  <th>Z</th>         <td>   -1.1173</td> <td>    0.522</td> <td>   -2.142</td> <td> 0.033</td> <td>   -2.141</td> <td>   -0.093</td>\n",
       "</tr>\n",
       "<tr>\n",
       "  <th>W:X</th>       <td>-4.725e-05</td> <td> 9.53e-05</td> <td>   -0.496</td> <td> 0.620</td> <td>   -0.000</td> <td>    0.000</td>\n",
       "</tr>\n",
       "<tr>\n",
       "  <th>W:Z</th>       <td>    0.0229</td> <td>    0.036</td> <td>    0.636</td> <td> 0.525</td> <td>   -0.048</td> <td>    0.093</td>\n",
       "</tr>\n",
       "<tr>\n",
       "  <th>X:Z</th>       <td>    0.0021</td> <td>    0.002</td> <td>    1.241</td> <td> 0.215</td> <td>   -0.001</td> <td>    0.005</td>\n",
       "</tr>\n",
       "<tr>\n",
       "  <th>W:X:Z</th>     <td>-9.769e-05</td> <td>    0.000</td> <td>   -0.748</td> <td> 0.455</td> <td>   -0.000</td> <td>    0.000</td>\n",
       "</tr>\n",
       "</table>\n",
       "<table class=\"simpletable\">\n",
       "<tr>\n",
       "  <th>Omnibus:</th>       <td>89.620</td> <th>  Durbin-Watson:     </th> <td>   1.997</td>\n",
       "</tr>\n",
       "<tr>\n",
       "  <th>Prob(Omnibus):</th> <td> 0.000</td> <th>  Jarque-Bera (JB):  </th> <td> 125.634</td>\n",
       "</tr>\n",
       "<tr>\n",
       "  <th>Skew:</th>          <td>-1.050</td> <th>  Prob(JB):          </th> <td>5.24e-28</td>\n",
       "</tr>\n",
       "<tr>\n",
       "  <th>Kurtosis:</th>      <td> 2.870</td> <th>  Cond. No.          </th> <td>3.72e+04</td>\n",
       "</tr>\n",
       "</table>"
      ],
      "text/plain": [
       "<class 'statsmodels.iolib.summary.Summary'>\n",
       "\"\"\"\n",
       "                            OLS Regression Results                            \n",
       "==============================================================================\n",
       "Dep. Variable:                      Y   R-squared:                       0.055\n",
       "Model:                            OLS   Adj. R-squared:                  0.045\n",
       "Method:                 Least Squares   F-statistic:                     5.596\n",
       "Date:                Sat, 21 Apr 2018   Prob (F-statistic):           2.75e-06\n",
       "Time:                        12:48:51   Log-Likelihood:                -1174.9\n",
       "No. Observations:                 681   AIC:                             2366.\n",
       "Df Residuals:                     673   BIC:                             2402.\n",
       "Df Model:                           7                                         \n",
       "Covariance Type:            nonrobust                                         \n",
       "==============================================================================\n",
       "                 coef    std err          t      P>|t|      [0.025      0.975]\n",
       "------------------------------------------------------------------------------\n",
       "Intercept      4.3602      0.259     16.862      0.000       3.852       4.868\n",
       "W             -0.0016      0.018     -0.093      0.926      -0.036       0.033\n",
       "X             -0.0007      0.001     -0.506      0.613      -0.003       0.002\n",
       "Z             -1.1173      0.522     -2.142      0.033      -2.141      -0.093\n",
       "W:X        -4.725e-05   9.53e-05     -0.496      0.620      -0.000       0.000\n",
       "W:Z            0.0229      0.036      0.636      0.525      -0.048       0.093\n",
       "X:Z            0.0021      0.002      1.241      0.215      -0.001       0.005\n",
       "W:X:Z      -9.769e-05      0.000     -0.748      0.455      -0.000       0.000\n",
       "==============================================================================\n",
       "Omnibus:                       89.620   Durbin-Watson:                   1.997\n",
       "Prob(Omnibus):                  0.000   Jarque-Bera (JB):              125.634\n",
       "Skew:                          -1.050   Prob(JB):                     5.24e-28\n",
       "Kurtosis:                       2.870   Cond. No.                     3.72e+04\n",
       "==============================================================================\n",
       "\n",
       "Warnings:\n",
       "[1] Standard Errors assume that the covariance matrix of the errors is correctly specified.\n",
       "[2] The condition number is large, 3.72e+04. This might indicate that there are\n",
       "strong multicollinearity or other numerical problems.\n",
       "\"\"\""
      ]
     },
     "execution_count": 18,
     "metadata": {},
     "output_type": "execute_result"
    }
   ],
   "source": [
    "import statsmodels.formula.api as sm\n",
    "from statsmodels.formula.api import ols\n",
    "\n",
    "ols2 = sm.ols(formula=\"Y ~ W + X + Z + W*X + W*Z + X*Z + W*X*Z\", data = training).fit()\n",
    "ols2.summary()\n",
    "#model is improved by adding interaction effects between factors"
   ]
  },
  {
   "cell_type": "code",
   "execution_count": 19,
   "metadata": {},
   "outputs": [
    {
     "name": "stdout",
     "output_type": "stream",
     "text": [
      "               sum_sq     df          F    PR(>F)\n",
      "W            1.015410    1.0   0.543818  0.461112\n",
      "X            7.265063    1.0   3.890911  0.048957\n",
      "Z           35.773028    1.0  19.158770  0.000014\n",
      "W:X          4.321880    1.0   2.314646  0.128630\n",
      "W:Z          0.106053    1.0   0.056798  0.811702\n",
      "X:Z          4.060074    1.0   2.174432  0.140789\n",
      "W:X:Z        1.044016    1.0   0.559138  0.454869\n",
      "Residual  1256.617601  673.0        NaN       NaN\n"
     ]
    }
   ],
   "source": [
    "from statsmodels.stats.anova import anova_lm\n",
    "from statsmodels.graphics.factorplots import interaction_plot\n",
    "anova = anova_lm(ols2, typ=2)\n",
    "print(anova)"
   ]
  },
  {
   "cell_type": "code",
   "execution_count": 20,
   "metadata": {},
   "outputs": [
    {
     "data": {
      "image/png": "[encoded data removed]",
      "text/plain": [
       "<matplotlib.figure.Figure at 0x1be96cf8>"
      ]
     },
     "metadata": {},
     "output_type": "display_data"
    }
   ],
   "source": [
    "import matplotlib.pyplot as pyplot\n",
    "from scipy import stats\n",
    "import numpy as np \n",
    "import pylab\n",
    "\n",
    "res = ols2.resid \n",
    "fig = stats.probplot(res, dist=\"norm\", plot=pylab)\n",
    "pylab.show()"
   ]
  },
  {
   "cell_type": "code",
   "execution_count": 23,
   "metadata": {},
   "outputs": [
    {
     "data": {
      "text/html": [
       "<table class=\"simpletable\">\n",
       "<caption>OLS Regression Results</caption>\n",
       "<tr>\n",
       "  <th>Dep. Variable:</th>           <td>YY</td>        <th>  R-squared:         </th> <td>   0.252</td>\n",
       "</tr>\n",
       "<tr>\n",
       "  <th>Model:</th>                   <td>OLS</td>       <th>  Adj. R-squared:    </th> <td>   0.244</td>\n",
       "</tr>\n",
       "<tr>\n",
       "  <th>Method:</th>             <td>Least Squares</td>  <th>  F-statistic:       </th> <td>   32.27</td>\n",
       "</tr>\n",
       "<tr>\n",
       "  <th>Date:</th>             <td>Sat, 21 Apr 2018</td> <th>  Prob (F-statistic):</th> <td>1.07e-38</td>\n",
       "</tr>\n",
       "<tr>\n",
       "  <th>Time:</th>                 <td>12:51:57</td>     <th>  Log-Likelihood:    </th> <td> -1016.8</td>\n",
       "</tr>\n",
       "<tr>\n",
       "  <th>No. Observations:</th>      <td>   679</td>      <th>  AIC:               </th> <td>   2050.</td>\n",
       "</tr>\n",
       "<tr>\n",
       "  <th>Df Residuals:</th>          <td>   671</td>      <th>  BIC:               </th> <td>   2086.</td>\n",
       "</tr>\n",
       "<tr>\n",
       "  <th>Df Model:</th>              <td>     7</td>      <th>                     </th>     <td> </td>   \n",
       "</tr>\n",
       "<tr>\n",
       "  <th>Covariance Type:</th>      <td>nonrobust</td>    <th>                     </th>     <td> </td>   \n",
       "</tr>\n",
       "</table>\n",
       "<table class=\"simpletable\">\n",
       "<tr>\n",
       "      <td></td>         <th>coef</th>     <th>std err</th>      <th>t</th>      <th>P>|t|</th>  <th>[0.025</th>    <th>0.975]</th>  \n",
       "</tr>\n",
       "<tr>\n",
       "  <th>Intercept</th> <td>    4.5513</td> <td>    0.209</td> <td>   21.768</td> <td> 0.000</td> <td>    4.141</td> <td>    4.962</td>\n",
       "</tr>\n",
       "<tr>\n",
       "  <th>WW</th>        <td>    0.0032</td> <td>    0.014</td> <td>    0.226</td> <td> 0.821</td> <td>   -0.024</td> <td>    0.031</td>\n",
       "</tr>\n",
       "<tr>\n",
       "  <th>XX</th>        <td>   -0.0010</td> <td>    0.001</td> <td>   -0.972</td> <td> 0.331</td> <td>   -0.003</td> <td>    0.001</td>\n",
       "</tr>\n",
       "<tr>\n",
       "  <th>ZZ</th>        <td>   -1.9900</td> <td>    0.544</td> <td>   -3.661</td> <td> 0.000</td> <td>   -3.057</td> <td>   -0.923</td>\n",
       "</tr>\n",
       "<tr>\n",
       "  <th>WW:XX</th>     <td> 4.086e-05</td> <td> 7.38e-05</td> <td>    0.554</td> <td> 0.580</td> <td>   -0.000</td> <td>    0.000</td>\n",
       "</tr>\n",
       "<tr>\n",
       "  <th>WW:ZZ</th>     <td>   -0.0247</td> <td>    0.038</td> <td>   -0.656</td> <td> 0.512</td> <td>   -0.098</td> <td>    0.049</td>\n",
       "</tr>\n",
       "<tr>\n",
       "  <th>XX:ZZ</th>     <td>    0.0021</td> <td>    0.002</td> <td>    1.168</td> <td> 0.243</td> <td>   -0.001</td> <td>    0.006</td>\n",
       "</tr>\n",
       "<tr>\n",
       "  <th>WW:XX:ZZ</th>  <td> 6.631e-05</td> <td>    0.000</td> <td>    0.525</td> <td> 0.600</td> <td>   -0.000</td> <td>    0.000</td>\n",
       "</tr>\n",
       "</table>\n",
       "<table class=\"simpletable\">\n",
       "<tr>\n",
       "  <th>Omnibus:</th>       <td>78.048</td> <th>  Durbin-Watson:     </th> <td>   1.792</td>\n",
       "</tr>\n",
       "<tr>\n",
       "  <th>Prob(Omnibus):</th> <td> 0.000</td> <th>  Jarque-Bera (JB):  </th> <td> 115.245</td>\n",
       "</tr>\n",
       "<tr>\n",
       "  <th>Skew:</th>          <td>-0.804</td> <th>  Prob(JB):          </th> <td>9.44e-26</td>\n",
       "</tr>\n",
       "<tr>\n",
       "  <th>Kurtosis:</th>      <td> 4.220</td> <th>  Cond. No.          </th> <td>5.00e+04</td>\n",
       "</tr>\n",
       "</table>"
      ],
      "text/plain": [
       "<class 'statsmodels.iolib.summary.Summary'>\n",
       "\"\"\"\n",
       "                            OLS Regression Results                            \n",
       "==============================================================================\n",
       "Dep. Variable:                     YY   R-squared:                       0.252\n",
       "Model:                            OLS   Adj. R-squared:                  0.244\n",
       "Method:                 Least Squares   F-statistic:                     32.27\n",
       "Date:                Sat, 21 Apr 2018   Prob (F-statistic):           1.07e-38\n",
       "Time:                        12:51:57   Log-Likelihood:                -1016.8\n",
       "No. Observations:                 679   AIC:                             2050.\n",
       "Df Residuals:                     671   BIC:                             2086.\n",
       "Df Model:                           7                                         \n",
       "Covariance Type:            nonrobust                                         \n",
       "==============================================================================\n",
       "                 coef    std err          t      P>|t|      [0.025      0.975]\n",
       "------------------------------------------------------------------------------\n",
       "Intercept      4.5513      0.209     21.768      0.000       4.141       4.962\n",
       "WW             0.0032      0.014      0.226      0.821      -0.024       0.031\n",
       "XX            -0.0010      0.001     -0.972      0.331      -0.003       0.001\n",
       "ZZ            -1.9900      0.544     -3.661      0.000      -3.057      -0.923\n",
       "WW:XX       4.086e-05   7.38e-05      0.554      0.580      -0.000       0.000\n",
       "WW:ZZ         -0.0247      0.038     -0.656      0.512      -0.098       0.049\n",
       "XX:ZZ          0.0021      0.002      1.168      0.243      -0.001       0.006\n",
       "WW:XX:ZZ    6.631e-05      0.000      0.525      0.600      -0.000       0.000\n",
       "==============================================================================\n",
       "Omnibus:                       78.048   Durbin-Watson:                   1.792\n",
       "Prob(Omnibus):                  0.000   Jarque-Bera (JB):              115.245\n",
       "Skew:                          -0.804   Prob(JB):                     9.44e-26\n",
       "Kurtosis:                       4.220   Cond. No.                     5.00e+04\n",
       "==============================================================================\n",
       "\n",
       "Warnings:\n",
       "[1] Standard Errors assume that the covariance matrix of the errors is correctly specified.\n",
       "[2] The condition number is large,  5e+04. This might indicate that there are\n",
       "strong multicollinearity or other numerical problems.\n",
       "\"\"\""
      ]
     },
     "execution_count": 23,
     "metadata": {},
     "output_type": "execute_result"
    }
   ],
   "source": [
    "WW = WW.astype(float)\n",
    "XX = XX.astype(float)\n",
    "YY = YY.astype(float)\n",
    "ZZ = ZZ.astype(float)\n",
    "ols3 = sm.ols(formula=\"YY ~ WW + XX + ZZ + WW*XX + WW*ZZ + XX*ZZ + WW*XX*ZZ\", data = validation).fit()\n",
    "ols3.summary()"
   ]
  },
  {
   "cell_type": "code",
   "execution_count": 27,
   "metadata": {},
   "outputs": [
    {
     "data": {
      "image/png": "[encoded data removed]",
      "text/plain": [
       "<matplotlib.figure.Figure at 0x1c4c9cc0>"
      ]
     },
     "metadata": {},
     "output_type": "display_data"
    }
   ],
   "source": [
    "import matplotlib.pyplot as pyplot\n",
    "from scipy import stats\n",
    "import numpy as np \n",
    "import pylab\n",
    "\n",
    "res = ols3.resid \n",
    "fig = stats.probplot(res, dist=\"norm\", plot=pylab)\n",
    "pylab.show()"
   ]
  },
  {
   "cell_type": "code",
   "execution_count": null,
   "metadata": {
    "collapsed": true
   },
   "outputs": [],
   "source": [
    "#anova is the better of the two models since it accounts for the interaction\n",
    "#effects between factors and provide greater insight on the overall relationships between the data\n",
    "#it also has the most significant improvement in regards to its r squared explanatory statistic and \n",
    "# f statistic when translated onto the validation data set. \n",
    "\n",
    "#because the anova impoved upon one's understanding of the relationships found within data sets and \n",
    "#yields better results, the anova is the more optimal model. "
   ]
  }
 ],
 "metadata": {
  "kernelspec": {
   "display_name": "Python 3",
   "language": "python",
   "name": "python3"
  },
  "language_info": {
   "codemirror_mode": {
    "name": "ipython",
    "version": 3
   },
   "file_extension": ".py",
   "mimetype": "text/x-python",
   "name": "python",
   "nbconvert_exporter": "python",
   "pygments_lexer": "ipython3",
   "version": "3.6.3"
  }
 },
 "nbformat": 4,
 "nbformat_minor": 2
}
